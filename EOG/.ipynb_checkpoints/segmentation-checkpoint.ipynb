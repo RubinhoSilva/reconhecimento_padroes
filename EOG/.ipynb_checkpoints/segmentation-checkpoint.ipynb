{
 "cells": [
  {
   "cell_type": "markdown",
   "metadata": {},
   "source": [
    "## Segmentação dos dados\n",
    "\n",
    "As características normalmente são extraídas sobre pequenos segmentos de tamanho fixo dos dados, não no dado como um todo. Estes pequenos segmentos são chamados de janelas. A técnica de separar os dados em janelas, recebe o nome de janela deslizante (*sliding window*) e é uma forma de segmentação de dados. Uma boa prática, é definir um passo para essa janela de forma que haja uma sopreposição de dados, para que informações da lacuna de uma janela e outra não sejam perdidas. Na imagem a seguir podemos observar um sinal EOG. Abaixo dele a representação de janelas: *W1*, *W2*, *W3*... Repare que entre as janelas, há uma sobreposição de tamanho *T*. \n",
    "\n",
    "Nesta base de dados, cada ensaio tem duração de 5 segundos. Se utilizadas janelas com tamanho de 250 ms, resultará em 20 janelas. Ao aplicar uma sobreposição de ~128ms, ficamos com 41 janelas de ~122ms.\n",
    "\n",
    "Algumas características de EMG trabalham com o dado no domínio da frequência. Quando tais características são aplicadas, é necessário tranformar o dado para o domínio da frequência, utilizando o método de transformação de domínio `STFT`, do inglês *Short-time Fourier transform* (Transformada de Fourier de curto termo). O código divide o dado em segmentos, tanto no domínio do tempo quanto no domínio da frequência."
   ]
  },
  {
   "cell_type": "code",
   "execution_count": 1,
   "metadata": {
    "tags": []
   },
   "outputs": [
    {
     "data": {
      "text/plain": [
       "array([[[ 7.09784222e+00, -8.82470250e-01, -2.44026923e+00, ...,\n",
       "          2.41123276e+01, -3.72672200e+00, -2.87915611e+00],\n",
       "        [-5.61461031e-01,  2.80500293e+00,  6.40665436e+00, ...,\n",
       "          2.57080126e+00,  9.24140930e+00, -1.70909748e+01],\n",
       "        [ 7.42822051e-01,  7.36435604e+00, -9.26261139e+00, ...,\n",
       "         -8.79971600e+00, -9.90878046e-01,  1.30385971e+01],\n",
       "        [ 6.39998198e+00,  3.37421584e+00,  1.49109831e+01, ...,\n",
       "          1.04875450e+01,  5.52092075e+00,  8.69425714e-01]],\n",
       "\n",
       "       [[ 2.94644684e-01,  1.07549305e+01, -1.85910110e+01, ...,\n",
       "         -1.95295124e+01, -8.71762395e-01,  4.40099430e+00],\n",
       "        [-6.74281883e+00,  9.19185638e+00,  3.78717089e+00, ...,\n",
       "         -1.00895011e+00, -4.03505659e+00,  7.80326080e+00],\n",
       "        [-1.31274061e+01,  7.75498915e+00, -2.00423450e+01, ...,\n",
       "         -4.44219780e+00,  5.80074644e+00, -1.42066460e+01],\n",
       "        [-7.80344427e-01, -1.27210522e+00, -4.86513901e+00, ...,\n",
       "         -5.26413560e-01, -3.29436548e-02, -4.78265429e+00]],\n",
       "\n",
       "       [[-2.62178326e+00, -7.15515900e+00,  7.31830978e+00, ...,\n",
       "          4.97534847e+00,  1.29479570e+01,  6.22375727e+00],\n",
       "        [ 7.28862715e+00,  1.47351875e+01, -4.31106758e+00, ...,\n",
       "         -5.29281473e+00,  5.02174187e+00, -2.80832410e+00],\n",
       "        [-1.17993097e+01,  1.08776588e+01,  1.15020180e+01, ...,\n",
       "          1.49352288e+00, -1.31157911e+00,  5.36775708e-01],\n",
       "        [ 2.22410893e+00, -1.42942944e+01, -7.65918064e+00, ...,\n",
       "          1.30463791e+01, -7.78155804e+00,  4.02171230e+00]],\n",
       "\n",
       "       ...,\n",
       "\n",
       "       [[-3.41302538e+00, -8.08975637e-01,  3.47548599e+01, ...,\n",
       "         -9.86768150e+00, -1.61789398e+01,  8.27938747e+00],\n",
       "        [ 4.29424191e+00, -5.84926224e+00,  1.52436962e+01, ...,\n",
       "          1.50051057e+00,  7.59819651e+00,  1.80581837e+01],\n",
       "        [-2.67704906e+01,  1.65868616e+00,  7.28113794e+00, ...,\n",
       "          1.04890709e+01, -2.11977825e+01, -1.19742727e+01],\n",
       "        [ 1.07726841e+01, -1.19690428e+01,  3.71630359e+00, ...,\n",
       "         -7.51134777e+00,  2.10089760e+01, -1.49418879e+01]],\n",
       "\n",
       "       [[-3.93455172e+00,  3.46081400e+00, -6.59302664e+00, ...,\n",
       "         -1.63828735e+01,  1.09898357e+01, -8.38842869e+00],\n",
       "        [-8.62664318e+00, -5.23807430e+00,  3.54557014e+00, ...,\n",
       "          1.44770837e+00,  7.53199577e-01, -5.12873745e+00],\n",
       "        [ 6.73937893e+00, -6.32317829e+00, -4.99685574e+00, ...,\n",
       "         -6.52469397e-01,  1.91532021e+01,  3.83713722e+00],\n",
       "        [ 1.75570488e+01, -6.27430296e+00,  2.67652199e-02, ...,\n",
       "          5.35191965e+00,  3.19556904e+00, -1.30618820e+01]],\n",
       "\n",
       "       [[ 8.18097115e+00,  2.30564556e+01, -4.00260735e+00, ...,\n",
       "          9.36271954e+00,  7.12990665e+00, -1.41664305e+01],\n",
       "        [-1.24475775e+01, -2.46145159e-01,  1.87539589e+00, ...,\n",
       "          1.59400864e+01,  4.37530565e+00, -1.72419131e-01],\n",
       "        [-8.49804306e+00,  2.06221848e+01, -1.67906227e+01, ...,\n",
       "         -9.91120338e+00, -1.92739277e+01, -4.62219858e+00],\n",
       "        [ 5.18171728e-01, -1.00720205e+01,  1.13188515e+01, ...,\n",
       "          3.93950319e+00, -9.27132320e+00,  9.64024067e+00]]],\n",
       "      dtype=float32)"
      ]
     },
     "execution_count": 1,
     "metadata": {},
     "output_type": "execute_result"
    }
   ],
   "source": [
    "# Criando dados fictícios\n",
    "\n",
    "import numpy as np\n",
    "from scipy.signal import stft\n",
    "\n",
    "shape = (60, 4, 1000)\n",
    "data = np.random.normal(loc=0, scale=10, size=shape).astype(np.float32)\n",
    "data"
   ]
  },
  {
   "cell_type": "code",
   "execution_count": 2,
   "metadata": {
    "tags": []
   },
   "outputs": [
    {
     "name": "stdout",
     "output_type": "stream",
     "text": [
      " (60, 4, 1000)\n",
      "Formato (shape) dos dados depois da divisão de janelas\n",
      "Dominio do tempo: (60, 4, 33, 64) - (classes+ensaios, canais, janelas, linhas)\n",
      "Dominio da frequência:  (60, 4, 33, 33) - (classes+ensaios, canais, janelas, linhas)\n"
     ]
    }
   ],
   "source": [
    "step = 29\n",
    "segment = 64\n",
    "print('', data.shape)\n",
    "\n",
    "n_win = int((data.shape[-1] - segment) / step) + 1\n",
    "ids = np.arange(n_win) * step\n",
    "\n",
    "# Janelas do dado no dominio do tempo\n",
    "chunks_time = np.array([data[:,:,k:(k + segment)] for k in ids]).transpose(1, 2, 0, 3)\n",
    "\n",
    "# Janelas do dado no domínio da frequência\n",
    "_, _, chunks_freq = stft(data, fs=200, nperseg=64, noverlap=32)\n",
    "chunks_freq = np.swapaxes(chunks_freq, 2, 3)\n",
    "\n",
    "print('Formato (shape) dos dados depois da divisão de janelas')\n",
    "print(f'Dominio do tempo: {chunks_time.shape} - (classes+ensaios, canais, janelas, linhas)')\n",
    "print(f'Dominio da frequência:  {chunks_freq.shape} - (classes+ensaios, canais, janelas, linhas)')"
   ]
  },
  {
   "cell_type": "markdown",
   "metadata": {},
   "source": [
    "##### Desafio: Implementar um algoritmo para encontrar a mesma quantidade de janelas em ambos os domínios (tempo e frequência)."
   ]
  },
  {
   "cell_type": "code",
   "execution_count": 3,
   "metadata": {
    "tags": []
   },
   "outputs": [
    {
     "name": "stdout",
     "output_type": "stream",
     "text": [
      "Step 29\n",
      "Formato (shape) dos dados depois da divisão de janelas\n",
      "Dominio do tempo: (60, 4, 33, 64) - (classes+ensaios, canais, janelas, linhas)\n",
      "Dominio da frequência:  (60, 4, 33, 33) - (classes+ensaios, canais, janelas, linhas)\n"
     ]
    }
   ],
   "source": [
    "step = 1\n",
    "segment = 64\n",
    "chunks_time = None\n",
    "chunks_freq = None\n",
    "\n",
    "while True:\n",
    "    n_win = int((data.shape[-1] - segment) / step) + 1\n",
    "    ids = np.arange(n_win) * step\n",
    "\n",
    "    # Janelas do dado no dominio do tempo\n",
    "    chunks_time = np.array([data[:,:,k:(k + segment)] for k in ids]).transpose(1, 2, 0, 3)\n",
    "\n",
    "    # Janelas do dado no domínio da frequência\n",
    "    _, _, chunks_freq = stft(data, fs=200, nperseg=64, noverlap=32)\n",
    "    chunks_freq = np.swapaxes(chunks_freq, 2, 3)\n",
    "\n",
    "    if chunks_time.shape[2] == chunks_freq.shape[2]:\n",
    "        break\n",
    "    else:\n",
    "        step += 1\n",
    "\n",
    "print(\"Step\", step)\n",
    "print('Formato (shape) dos dados depois da divisão de janelas')\n",
    "print(f'Dominio do tempo: {chunks_time.shape} - (classes+ensaios, canais, janelas, linhas)')\n",
    "print(f'Dominio da frequência:  {chunks_freq.shape} - (classes+ensaios, canais, janelas, linhas)')"
   ]
  },
  {
   "cell_type": "code",
   "execution_count": null,
   "metadata": {},
   "outputs": [],
   "source": []
  }
 ],
 "metadata": {
  "kernelspec": {
   "display_name": "Python 3 (ipykernel)",
   "language": "python",
   "name": "python3"
  },
  "language_info": {
   "codemirror_mode": {
    "name": "ipython",
    "version": 3
   },
   "file_extension": ".py",
   "mimetype": "text/x-python",
   "name": "python",
   "nbconvert_exporter": "python",
   "pygments_lexer": "ipython3",
   "version": "3.11.4"
  }
 },
 "nbformat": 4,
 "nbformat_minor": 4
}
