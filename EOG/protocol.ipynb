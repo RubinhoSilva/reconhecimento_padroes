{
 "cells": [
  {
   "cell_type": "markdown",
   "metadata": {},
   "source": [
    "## análise de sinais de eletrooculografia (EOG)\n",
    "\n",
    "Algumas etapas para o reconhecimento de padrões em sinais EOG são necessárias (e parecidas com outros sinais EXG). Estes são apresentadas a seguir.\n",
    "\n",
    "### Compreensão da EOG e equipamentos\n",
    "\n",
    "Os conceitos básicos da EOG envolvem a medição da atividade elétrica dos músculos dos olhos para rastrear o movimento ocular. O equipamento adequado para aquisição de dados EOG pode ser o mesmo utilizados para obter sinis EMG. O `OpenBCI board`, apesar de uma opção popular, tem a sua versão mais básica (`Ganglion board`) com 4 canais, útil para este feito.\n",
    "\n",
    "Alguns textos e tutoriais podem ser úteis para melhor entendimento:\n",
    "- Tese [EOG Signals in Drowsiness Research](https://www.diva-portal.org/smash/get/diva2:555912/FULLTEXT01.pdf)\n",
    "- Tutorial [Biological Signals Acquisition - EOG](https://www.medicine.mcgill.ca/physio/vlab/Other_exps/EOG/eogintro_n.htm)\n",
    "- Alguns tutoriais e funções utilizando a ferramenta `MNE`:\n",
    "    - [Reduce EOG artifacts through regression](https://mne.tools/dev/auto_examples/preprocessing/eog_regression.html)\n",
    "    - [Show EOG artifact timing](https://mne.tools/stable/auto_examples/preprocessing/eog_artifact_histogram.html)\n",
    "    - [mne.preprocessing.create_eog_epochs](https://mne.tools/stable/generated/mne.preprocessing.create_eog_epochs.html)\n",
    "    - [mne.preprocessing.find_eog_events](https://mne.tools/stable/generated/mne.preprocessing.find_eog_events.html)\n",
    "\n",
    "A aquisição de dados é realizado pela conexão de eletrodos à área em torno dos olhos."
   ]
  }
 ],
 "metadata": {
  "kernelspec": {
   "display_name": "projeto_2023",
   "language": "python",
   "name": "projeto_2023"
  },
  "language_info": {
   "codemirror_mode": {
    "name": "ipython",
    "version": 3
   },
   "file_extension": ".py",
   "mimetype": "text/x-python",
   "name": "python",
   "nbconvert_exporter": "python",
   "pygments_lexer": "ipython3",
   "version": "3.10.12"
  }
 },
 "nbformat": 4,
 "nbformat_minor": 4
}
